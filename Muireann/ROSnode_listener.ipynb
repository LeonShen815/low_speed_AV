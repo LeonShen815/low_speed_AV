{
 "cells": [
  {
   "cell_type": "code",
   "execution_count": null,
   "metadata": {},
   "outputs": [],
   "source": [
    "#remove or add the library/libraries for ROS\n",
    "import rospy, time, math\n",
    "import numpy as np\n",
    " \n",
    "#remove or add the message type\n",
    "from std_msgs.msg import Float32\n",
    " \n",
    "def callback(data):\n",
    "    print rospy.get_name(), \"I heard %f\"%str(data.data)\n",
    "\n",
    "def listener():\n",
    "    rospy.init_node('listener')\n",
    "    sub=rospy.Subscriber(\"floats\", Floats, callback)\n",
    "\n",
    " \n",
    "if __name__=='__main__':\n",
    "    listener()\n",
    "    rospy.spin()\n",
    "    "
   ]
  }
 ],
 "metadata": {
  "kernelspec": {
   "display_name": "Python 3",
   "language": "python",
   "name": "python3"
  },
  "language_info": {
   "codemirror_mode": {
    "name": "ipython",
    "version": 3
   },
   "file_extension": ".py",
   "mimetype": "text/x-python",
   "name": "python",
   "nbconvert_exporter": "python",
   "pygments_lexer": "ipython3",
   "version": "3.7.4"
  }
 },
 "nbformat": 4,
 "nbformat_minor": 2
}
