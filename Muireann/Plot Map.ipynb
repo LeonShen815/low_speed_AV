{
 "cells": [
  {
   "cell_type": "code",
   "execution_count": 37,
   "metadata": {},
   "outputs": [
    {
     "name": "stdout",
     "output_type": "stream",
     "text": [
      "(1036, 1314, 4)\n"
     ]
    },
    {
     "data": {
      "image/png": "[encoded data removed]",
      "text/plain": [
       "<Figure size 432x288 with 1 Axes>"
      ]
     },
     "metadata": {
      "needs_background": "light"
     },
     "output_type": "display_data"
    },
    {
     "data": {
      "image/png": "[encoded data removed]",
      "text/plain": [
       "<Figure size 432x288 with 1 Axes>"
      ]
     },
     "metadata": {
      "needs_background": "light"
     },
     "output_type": "display_data"
    },
    {
     "data": {
      "image/png": "[encoded data removed]",
      "text/plain": [
       "<Figure size 432x288 with 1 Axes>"
      ]
     },
     "metadata": {
      "needs_background": "light"
     },
     "output_type": "display_data"
    }
   ],
   "source": [
    "#This is going to be the Python simulation node. Currently just a code to plot the trajectory of the modeled car\n",
    "#as calculated by the MPC node in Julia, and the path follower code used as another node\n",
    "\n",
    "# importing libraries\n",
    "import matplotlib\n",
    "import matplotlib.image as mpimg \n",
    "import matplotlib.pyplot as plt \n",
    "#matplotlib.use('GTK3Agg')\n",
    "import numpy as np\n",
    "from PIL import Image\n",
    "import pandas as pd\n",
    "import csv\n",
    "import time\n",
    "\n",
    "\n",
    "# #open map image and resize to size of carpark\n",
    "# image = Image.open('Map.png')\n",
    "# # Read Images  \n",
    "# new_image = image.resize((300, 200))\n",
    "# new_image.save('Map_resize.png')\n",
    "# plt.imshow(new_image)\n",
    "img = mpimg.imread('Map.png')\n",
    "print(img.shape)\n",
    "new_image = plt.imshow(img)\n",
    "plt.show()\n",
    "#load in MPC generated data for X, Y, velocity and heading at each point\n",
    "opened_file = open('Z.csv')\n",
    "from csv import reader\n",
    "read_file = reader(opened_file)\n",
    "Z = list(read_file)\n",
    "n=len(Z)\n",
    "z_list = [list(map(float,i)) for i in Z]\n",
    "z_list=np.array(z_list)\n",
    "\n",
    "    \n",
    "def plotting_func(z0):\n",
    "    #returns the next x,y coordinates of the car\n",
    "    # Parameters of car\n",
    "    \n",
    "    lf = 1.738\n",
    "    lr = 1.738\n",
    "    width = 2\n",
    "    # Assume the length of the wheel is 0.5\n",
    "    lw = 0.5\n",
    "    #figure\n",
    "    # front\n",
    "    x_f = z0[0]+lf*np.cos(z0[3])\n",
    "    y_f = z0[1]+lf*np.sin(z0[3])\n",
    "    # front left\n",
    "    x_f_l = x_f-(width/2)*np.sin(z0[3])\n",
    "    y_f_l = y_f+(width/2)*np.cos(z0[3])\n",
    "    # front right\n",
    "    x_f_r = x_f+(width/2)*np.sin(z0[3])\n",
    "    y_f_r = y_f-(width/2)*np.cos(z0[3])\n",
    "    # rear\n",
    "    x_r = z0[0]-lr*np.cos(z0[3])\n",
    "    y_r = z0[1]-lr*np.sin(z0[3])\n",
    "    # rear left\n",
    "    x_r_l = x_r-(width/2)*np.sin(z0[3])\n",
    "    y_r_l = y_r+(width/2)*np.cos(z0[3])\n",
    "    # rear right\n",
    "    x_r_r = x_r+(width/2)*np.sin(z0[3])\n",
    "    y_r_r = y_r-(width/2)*np.cos(z0[3])\n",
    "    \n",
    "    x_d1=[x_f_l,x_f_r]\n",
    "    x_d2=[x_f_l,x_r_l]\n",
    "    x_d3=[x_r_l,x_r_r]\n",
    "    x_d4=[x_f_r,x_r_r]\n",
    "    y_d1=[y_f_l,y_f_r]\n",
    "    y_d2=[y_f_l,y_r_l]\n",
    "    y_d3=[y_r_l,y_r_r]\n",
    "    y_d4=[y_f_r,y_r_r]\n",
    "    \n",
    "    \n",
    "    # draw the car\n",
    "\n",
    "  \n",
    "     #h1=axtr.plot([x_f_l,x_f_r],[y_f_l,y_f_r],'b-')\n",
    "#     h2=axtr.plot([x_f_l,x_r_l],[y_f_l,y_r_l],'b-')\n",
    "#     h3=axtr.plot([x_r_l,x_r_r],[y_r_l,y_r_r],'b-')\n",
    "#     h4=axtr.plot([x_f_r,x_r_r],[y_f_r,y_r_r],'b-')\n",
    "#     time.sleep(1)\n",
    "#     # calculate the wheel\n",
    "#     # left wheel\n",
    "#     w_f_l_x = x_f_l+(lw/2)*np.cos(z0[3]-u[1])\n",
    "#     w_r_l_x = x_f_l-(lw/2)*np.cos(z0[3]-u[1])\n",
    "#     w_f_l_y = y_f_l+(lw/2)*np.sin(z0[3]-u[1])\n",
    "#     w_r_l_y = y_f_l-(lw/2)*np.sin(z0[3]-u[1])\n",
    "#     # right wheel\n",
    "#     w_f_r_x = x_f_r+(lw/2)*np.cos(z0[3]-u[1])\n",
    "#     w_r_r_x = x_f_r-(lw/2)*np.cos(z0[3]-u[1])\n",
    "#     w_f_r_y = y_f_r+(lw/2)*np.sin(z0[3]-u[1])\n",
    "#     w_r_r_y = y_f_r-(lw/2)*np.sin(z0[3]-u[1])\n",
    "\n",
    "#     # Draw the wheel\n",
    "#     h5=plt.plot([w_f_l_x,w_r_l_x],[w_f_l_y,w_r_l_y],'r-')  \n",
    "#     h6=plt.plot([w_f_r_x,w_r_r_x],[w_f_r_y,w_r_r_y],'r-') \n",
    "    #pause(1)\n",
    "    \n",
    "    #plt.plot(z_list[0,:], z_list[1,:],'r-')\n",
    "    obj=np.array([x_d1,x_d2,x_d3,x_d4,y_d1,y_d2,y_d3,y_d4])\n",
    "    return obj\n",
    "    \n",
    "        \n",
    "def run(niter=100):\n",
    "    #to animate the figure\n",
    "    i=1\n",
    "    fig, ax = plt.subplots()\n",
    "    ax.set_aspect('equal')\n",
    "    ax.set_xlim(0, 1314)\n",
    "    ax.set_ylim(1036, 0)\n",
    "    z0=np.array([z_list[i,0],z_list[i,1], z_list[i,2], z_list[i,3]])\n",
    "    \n",
    "    obj=plotting_func(z0)\n",
    "\n",
    "    plt.show(False)\n",
    "\n",
    "    h1 = ax.plot(obj[0], obj[4],'b-')[0]\n",
    "    h2 = ax.plot(obj[1], obj[5], 'b-')[0]\n",
    "    h3 = ax.plot(obj[2], obj[6], 'b-')[0]\n",
    "    h4 = ax.plot(obj[3], obj[7], 'b-')[0]\n",
    "    tic = time.time()\n",
    "\n",
    "    for ii in range(niter):\n",
    "\n",
    "        # update the xy data\n",
    "        obj = plotting_func(np.array([z_list[i,0],z_list[i,1], z_list[i,2], z_list[i,3]]))\n",
    "        h1.set_data(obj[0], obj[4])\n",
    "        h2.set_data(obj[1], obj[5])\n",
    "        h3.set_data(obj[2], obj[6])\n",
    "        h4.set_data(obj[3], obj[7])\n",
    "        \n",
    "        start = time.time()\n",
    "        # redraw everything\n",
    "        fig.canvas.draw()\n",
    "        \n",
    "        timer = fig.canvas.new_timer(interval=1)\n",
    "        #timer.add_callback(update)\n",
    "        timer.start()\n",
    "        #fig.canvas.blit(ax.bbox)\n",
    "        i=i+1\n",
    "        plt.show()\n",
    "    plt.close(fig)\n",
    "run()"
   ]
  },
  {
   "cell_type": "code",
   "execution_count": 24,
   "metadata": {},
   "outputs": [],
   "source": [
    "##IGNORE ALL CODE IN CELLS BELOW\n",
    "\n",
    "\n",
    "\n",
    "def plotting_func(z0):\n",
    "    # Plot the trajectory with the car visualized simultaneously\n",
    "    # Parameters of car\n",
    "    \n",
    "    \n",
    "    axtr = plt.axes()\n",
    "    \n",
    "    lf = 1.738\n",
    "    lr = 1.738\n",
    "    width = 2\n",
    "    # Assume the length of the wheel is 0.5\n",
    "    lw = 0.5\n",
    "    #figure\n",
    "    # front\n",
    "    x_f = z0[0]+lf*np.cos(z0[3])\n",
    "    y_f = z0[1]+lf*np.sin(z0[3])\n",
    "    # front left\n",
    "    x_f_l = x_f-(width/2)*np.sin(z0[3])\n",
    "    y_f_l = y_f+(width/2)*np.cos(z0[3])\n",
    "    # front right\n",
    "    x_f_r = x_f+(width/2)*np.sin(z0[3])\n",
    "    y_f_r = y_f-(width/2)*np.cos(z0[3])\n",
    "    # rear\n",
    "    x_r = z0[0]-lr*np.cos(z0[3])\n",
    "    y_r = z0[1]-lr*np.sin(z0[3])\n",
    "    # rear left\n",
    "    x_r_l = x_r-(width/2)*np.sin(z0[3])\n",
    "    y_r_l = y_r+(width/2)*np.cos(z0[3])\n",
    "    # rear right\n",
    "    x_r_r = x_r+(width/2)*np.sin(z0[3])\n",
    "    y_r_r = y_r-(width/2)*np.cos(z0[3])\n",
    "    # draw the car\n",
    "\n",
    "  \n",
    "    h1=axtr.plot([x_f_l,x_f_r],[y_f_l,y_f_r],'b-')\n",
    "    h2=axtr.plot([x_f_l,x_r_l],[y_f_l,y_r_l],'b-')\n",
    "    h3=axtr.plot([x_r_l,x_r_r],[y_r_l,y_r_r],'b-')\n",
    "    h4=axtr.plot([x_f_r,x_r_r],[y_f_r,y_r_r],'b-')\n",
    "    time.sleep(1)\n",
    "#     # calculate the wheel\n",
    "#     # left wheel\n",
    "#     w_f_l_x = x_f_l+(lw/2)*np.cos(z0[3]-u[1])\n",
    "#     w_r_l_x = x_f_l-(lw/2)*np.cos(z0[3]-u[1])\n",
    "#     w_f_l_y = y_f_l+(lw/2)*np.sin(z0[3]-u[1])\n",
    "#     w_r_l_y = y_f_l-(lw/2)*np.sin(z0[3]-u[1])\n",
    "#     # right wheel\n",
    "#     w_f_r_x = x_f_r+(lw/2)*np.cos(z0[3]-u[1])\n",
    "#     w_r_r_x = x_f_r-(lw/2)*np.cos(z0[3]-u[1])\n",
    "#     w_f_r_y = y_f_r+(lw/2)*np.sin(z0[3]-u[1])\n",
    "#     w_r_r_y = y_f_r-(lw/2)*np.sin(z0[3]-u[1])\n",
    "\n",
    "#     # Draw the wheel\n",
    "#     h5=plt.plot([w_f_l_x,w_r_l_x],[w_f_l_y,w_r_l_y],'r-')  \n",
    "#     h6=plt.plot([w_f_r_x,w_r_r_x],[w_f_r_y,w_r_r_y],'r-') \n",
    "    #pause(1)\n",
    "  \n",
    "    plt.plot(z_list[0,:], z_list[1,:])"
   ]
  },
  {
   "cell_type": "code",
   "execution_count": 26,
   "metadata": {},
   "outputs": [
    {
     "data": {
      "image/png": "[encoded data removed]",
      "text/plain": [
       "<Figure size 432x288 with 1 Axes>"
      ]
     },
     "metadata": {
      "needs_background": "light"
     },
     "output_type": "display_data"
    }
   ],
   "source": [
    "for i in range(len(z_list)):\n",
    "    z0=np.array([z_list[i,0],z_list[i,1], z_list[i,2], z_list[i,3]])\n",
    "    plotting_func(z0)\n",
    "    "
   ]
  }
 ],
 "metadata": {
  "kernelspec": {
   "display_name": "Python 3",
   "language": "python",
   "name": "python3"
  },
  "language_info": {
   "codemirror_mode": {
    "name": "ipython",
    "version": 3
   },
   "file_extension": ".py",
   "mimetype": "text/x-python",
   "name": "python",
   "nbconvert_exporter": "python",
   "pygments_lexer": "ipython3",
   "version": "3.7.4"
  }
 },
 "nbformat": 4,
 "nbformat_minor": 2
}
