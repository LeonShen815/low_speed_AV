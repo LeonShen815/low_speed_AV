{
 "cells": [
  {
   "cell_type": "code",
   "execution_count": 1,
   "metadata": {},
   "outputs": [],
   "source": [
    "#This is going to be the Python simulation node. Currently just a code to plot the trajectory of the modeled car\n",
    "#as calculated by the MPC node in Julia, and the path follower code used as another node\n",
    "\n",
    "# importing libraries \n",
    "import matplotlib.image as mpimg \n",
    "import matplotlib.pyplot as plt \n",
    "import numpy as np\n",
    "from PIL import Image\n",
    "import pandas as pd\n",
    "import csv\n",
    "\n",
    "# #open map image and resize to size of carpark\n",
    "# image = Image.open('Map.png')\n",
    "# # Read Images  \n",
    "# new_image = image.resize((300, 200))\n",
    "# new_image.save('Map_resize.png')\n",
    "# plt.imshow(new_image)\n",
    "img = mpimg.imread('Map.png')\n",
    "new_image = plt.imshow(img)\n",
    "#load in MPC generated data for X, Y, velocity and heading at each point\n",
    "opened_file = open('Z.csv')\n",
    "from csv import reader\n",
    "read_file = reader(opened_file)\n",
    "Z = list(read_file)\n",
    "n=len(Z)\n",
    "z_list = [list(map(float,i)) for i in Z]\n",
    "z_list=np.array(z_list)"
   ]
  },
  {
   "cell_type": "code",
   "execution_count": 2,
   "metadata": {},
   "outputs": [],
   "source": [
    "def plotting_func(z0):\n",
    "    # Plot the trajectory with the car visualized simultaneously\n",
    "    # Parameters of car\n",
    "    lf = 1.738\n",
    "    lr = 1.738\n",
    "    width = 2\n",
    "    # Assume the length of the wheel is 0.5\n",
    "    lw = 0.5\n",
    "    #figure\n",
    "    # front\n",
    "    x_f = z0[0]+lf*np.cos(z0[3])\n",
    "    y_f = z0[1]+lf*np.sin(z0[3])\n",
    "    # front left\n",
    "    x_f_l = x_f-(width/2)*np.sin(z0[3])\n",
    "    y_f_l = y_f+(width/2)*np.cos(z0[3])\n",
    "    # front right\n",
    "    x_f_r = x_f+(width/2)*np.sin(z0[3])\n",
    "    y_f_r = y_f-(width/2)*np.cos(z0[3])\n",
    "    # rear\n",
    "    x_r = z0[0]-lr*np.cos(z0[3])\n",
    "    y_r = z0[1]-lr*np.sin(z0[3])\n",
    "    # rear left\n",
    "    x_r_l = x_r-(width/2)*np.sin(z0[3])\n",
    "    y_r_l = y_r+(width/2)*np.cos(z0[3])\n",
    "    # rear right\n",
    "    x_r_r = x_r+(width/2)*np.sin(z0[3])\n",
    "    y_r_r = y_r-(width/2)*np.cos(z0[3])\n",
    "    # draw the car\n",
    "\n",
    "  \n",
    "    h1=new_image.plot([x_f_l,x_f_r],[y_f_l,y_f_r],'b-')\n",
    "    h2=new_image.plot([x_f_l,x_r_l],[y_f_l,y_r_l],'b-')\n",
    "    h3=new_image.plot([x_r_l,x_r_r],[y_r_l,y_r_r],'b-')\n",
    "    h4=new_image.plot([x_f_r,x_r_r],[y_f_r,y_r_r],'b-')\n",
    "    pause(1)\n",
    "    # calculate the wheel\n",
    "    # left wheel\n",
    "    w_f_l_x = x_f_l+(lw/2)*np.cos(z0[3]-u[1])\n",
    "    w_r_l_x = x_f_l-(lw/2)*np.cos(z0[3]-u[1])\n",
    "    w_f_l_y = y_f_l+(lw/2)*np.sin(z0[3]-u[1])\n",
    "    w_r_l_y = y_f_l-(lw/2)*np.sin(z0[3]-u[1])\n",
    "    # right wheel\n",
    "    w_f_r_x = x_f_r+(lw/2)*np.cos(z0[3]-u[1])\n",
    "    w_r_r_x = x_f_r-(lw/2)*np.cos(z0[3]-u[1])\n",
    "    w_f_r_y = y_f_r+(lw/2)*np.sin(z0[3]-u[1])\n",
    "    w_r_r_y = y_f_r-(lw/2)*np.sin(z0[3]-u[1])\n",
    "\n",
    "    # Draw the wheel\n",
    "    h5=new_image.plot([w_f_l_x,w_r_l_x],[w_f_l_y,w_r_l_y],'r-')  \n",
    "    h6=new_image.plot([w_f_r_x,w_r_r_x],[w_f_r_y,w_r_r_y],'r-') \n",
    "    pause(1)\n",
    "  \n",
    "    new_image.plot(z_list[0,:], z_list[1,:])"
   ]
  },
  {
   "cell_type": "code",
   "execution_count": 3,
   "metadata": {},
   "outputs": [
    {
     "ename": "AttributeError",
     "evalue": "'AxesImage' object has no attribute 'plot'",
     "output_type": "error",
     "traceback": [
      "\u001b[1;31m---------------------------------------------------------------------------\u001b[0m",
      "\u001b[1;31mAttributeError\u001b[0m                            Traceback (most recent call last)",
      "\u001b[1;32m<ipython-input-3-13eb6f2e8157>\u001b[0m in \u001b[0;36m<module>\u001b[1;34m\u001b[0m\n\u001b[0;32m      1\u001b[0m \u001b[1;32mfor\u001b[0m \u001b[0mi\u001b[0m \u001b[1;32min\u001b[0m \u001b[0mrange\u001b[0m\u001b[1;33m(\u001b[0m\u001b[0mlen\u001b[0m\u001b[1;33m(\u001b[0m\u001b[0mz_list\u001b[0m\u001b[1;33m)\u001b[0m\u001b[1;33m)\u001b[0m\u001b[1;33m:\u001b[0m\u001b[1;33m\u001b[0m\u001b[1;33m\u001b[0m\u001b[0m\n\u001b[0;32m      2\u001b[0m     \u001b[0mz0\u001b[0m\u001b[1;33m=\u001b[0m\u001b[0mnp\u001b[0m\u001b[1;33m.\u001b[0m\u001b[0marray\u001b[0m\u001b[1;33m(\u001b[0m\u001b[1;33m[\u001b[0m\u001b[0mz_list\u001b[0m\u001b[1;33m[\u001b[0m\u001b[0mi\u001b[0m\u001b[1;33m,\u001b[0m\u001b[1;36m0\u001b[0m\u001b[1;33m]\u001b[0m\u001b[1;33m,\u001b[0m\u001b[0mz_list\u001b[0m\u001b[1;33m[\u001b[0m\u001b[0mi\u001b[0m\u001b[1;33m,\u001b[0m\u001b[1;36m1\u001b[0m\u001b[1;33m]\u001b[0m\u001b[1;33m,\u001b[0m \u001b[0mz_list\u001b[0m\u001b[1;33m[\u001b[0m\u001b[0mi\u001b[0m\u001b[1;33m,\u001b[0m\u001b[1;36m2\u001b[0m\u001b[1;33m]\u001b[0m\u001b[1;33m,\u001b[0m \u001b[0mz_list\u001b[0m\u001b[1;33m[\u001b[0m\u001b[0mi\u001b[0m\u001b[1;33m,\u001b[0m\u001b[1;36m3\u001b[0m\u001b[1;33m]\u001b[0m\u001b[1;33m]\u001b[0m\u001b[1;33m)\u001b[0m\u001b[1;33m\u001b[0m\u001b[1;33m\u001b[0m\u001b[0m\n\u001b[1;32m----> 3\u001b[1;33m     \u001b[0mplotting_func\u001b[0m\u001b[1;33m(\u001b[0m\u001b[0mz0\u001b[0m\u001b[1;33m)\u001b[0m\u001b[1;33m\u001b[0m\u001b[1;33m\u001b[0m\u001b[0m\n\u001b[0m\u001b[0;32m      4\u001b[0m \u001b[1;33m\u001b[0m\u001b[0m\n",
      "\u001b[1;32m<ipython-input-2-cf55977995e8>\u001b[0m in \u001b[0;36mplotting_func\u001b[1;34m(z0)\u001b[0m\n\u001b[0;32m     29\u001b[0m \u001b[1;33m\u001b[0m\u001b[0m\n\u001b[0;32m     30\u001b[0m \u001b[1;33m\u001b[0m\u001b[0m\n\u001b[1;32m---> 31\u001b[1;33m     \u001b[0mh1\u001b[0m\u001b[1;33m=\u001b[0m\u001b[0mnew_image\u001b[0m\u001b[1;33m.\u001b[0m\u001b[0mplot\u001b[0m\u001b[1;33m(\u001b[0m\u001b[1;33m[\u001b[0m\u001b[0mx_f_l\u001b[0m\u001b[1;33m,\u001b[0m\u001b[0mx_f_r\u001b[0m\u001b[1;33m]\u001b[0m\u001b[1;33m,\u001b[0m\u001b[1;33m[\u001b[0m\u001b[0my_f_l\u001b[0m\u001b[1;33m,\u001b[0m\u001b[0my_f_r\u001b[0m\u001b[1;33m]\u001b[0m\u001b[1;33m,\u001b[0m\u001b[1;34m'b-'\u001b[0m\u001b[1;33m)\u001b[0m\u001b[1;33m\u001b[0m\u001b[1;33m\u001b[0m\u001b[0m\n\u001b[0m\u001b[0;32m     32\u001b[0m     \u001b[0mh2\u001b[0m\u001b[1;33m=\u001b[0m\u001b[0mnew_image\u001b[0m\u001b[1;33m.\u001b[0m\u001b[0mplot\u001b[0m\u001b[1;33m(\u001b[0m\u001b[1;33m[\u001b[0m\u001b[0mx_f_l\u001b[0m\u001b[1;33m,\u001b[0m\u001b[0mx_r_l\u001b[0m\u001b[1;33m]\u001b[0m\u001b[1;33m,\u001b[0m\u001b[1;33m[\u001b[0m\u001b[0my_f_l\u001b[0m\u001b[1;33m,\u001b[0m\u001b[0my_r_l\u001b[0m\u001b[1;33m]\u001b[0m\u001b[1;33m,\u001b[0m\u001b[1;34m'b-'\u001b[0m\u001b[1;33m)\u001b[0m\u001b[1;33m\u001b[0m\u001b[1;33m\u001b[0m\u001b[0m\n\u001b[0;32m     33\u001b[0m     \u001b[0mh3\u001b[0m\u001b[1;33m=\u001b[0m\u001b[0mnew_image\u001b[0m\u001b[1;33m.\u001b[0m\u001b[0mplot\u001b[0m\u001b[1;33m(\u001b[0m\u001b[1;33m[\u001b[0m\u001b[0mx_r_l\u001b[0m\u001b[1;33m,\u001b[0m\u001b[0mx_r_r\u001b[0m\u001b[1;33m]\u001b[0m\u001b[1;33m,\u001b[0m\u001b[1;33m[\u001b[0m\u001b[0my_r_l\u001b[0m\u001b[1;33m,\u001b[0m\u001b[0my_r_r\u001b[0m\u001b[1;33m]\u001b[0m\u001b[1;33m,\u001b[0m\u001b[1;34m'b-'\u001b[0m\u001b[1;33m)\u001b[0m\u001b[1;33m\u001b[0m\u001b[1;33m\u001b[0m\u001b[0m\n",
      "\u001b[1;31mAttributeError\u001b[0m: 'AxesImage' object has no attribute 'plot'"
     ]
    }
   ],
   "source": [
    "for i in range(len(z_list)):\n",
    "    z0=np.array([z_list[i,0],z_list[i,1], z_list[i,2], z_list[i,3]])\n",
    "    plotting_func(z0)\n",
    "    "
   ]
  }
 ],
 "metadata": {
  "kernelspec": {
   "display_name": "Python 3",
   "language": "python",
   "name": "python3"
  },
  "language_info": {
   "codemirror_mode": {
    "name": "ipython",
    "version": 3
   },
   "file_extension": ".py",
   "mimetype": "text/x-python",
   "name": "python",
   "nbconvert_exporter": "python",
   "pygments_lexer": "ipython3",
   "version": "3.7.4"
  }
 },
 "nbformat": 4,
 "nbformat_minor": 2
}
