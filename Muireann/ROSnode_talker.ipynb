{
 "cells": [
  {
   "cell_type": "code",
   "execution_count": null,
   "metadata": {},
   "outputs": [],
   "source": [
    "import numpy as np\n",
    "import csv\n",
    "import roslib; roslib.load_manifest(PKG)\n",
    "import rospy\n",
    "from rospy.numpy_msg import numpy_msg\n",
    "from rospy_tutorials.msg import Floats\n",
    "\n",
    "#load in MPC generated data for X, Y, velocity and heading at each point\n",
    "\n",
    "opened_file = open('Z.csv')\n",
    "from csv import reader\n",
    "read_file = reader(opened_file)\n",
    "Z = list(read_file)\n",
    "n=len(Z)\n",
    "z_list = [list(map(float,i)) for i in Z]\n",
    "#z_list=np.array(z_list)\n",
    "\n",
    "def talker():\n",
    "    pub = rospy.Publisher('floats', numpy_msg(Floats),queue_size=10)\n",
    "    rospy.init_node('talker', anonymous=True)\n",
    "    r = rospy.Rate(10) # 10hz\n",
    "    while not rospy.is_shutdown():\n",
    "        a = np.array(z_list, dtype=np.float32)\n",
    "        pub.publish(a)\n",
    "        r.sleep()\n",
    "\n",
    "if __name__ == '__main__':\n",
    "    talker()"
   ]
  }
 ],
 "metadata": {
  "kernelspec": {
   "display_name": "Python 3",
   "language": "python",
   "name": "python3"
  },
  "language_info": {
   "codemirror_mode": {
    "name": "ipython",
    "version": 3
   },
   "file_extension": ".py",
   "mimetype": "text/x-python",
   "name": "python",
   "nbconvert_exporter": "python",
   "pygments_lexer": "ipython3",
   "version": "3.7.4"
  }
 },
 "nbformat": 4,
 "nbformat_minor": 2
}
