{
 "cells": [
  {
   "cell_type": "code",
   "execution_count": null,
   "metadata": {},
   "outputs": [],
   "source": [
    "import numpy as np\n",
    "import open3d as o3d   \n",
    "\n",
    "def main():\n",
    "    cloud = o3d.io.read_point_cloud(\"finalCloud.pcd\") # Read the point cloud\n",
    "    o3d.visualization.draw_geometries([cloud]) # Visualize the point cloud\n",
    "    max_coords=o3d.geometry.get_max_bound(self)\n",
    "    min_coords=o3d.geometry.get_min_bound(self)\n",
    "    print(max_coords)\n",
    "    print(min_coords)\n",
    "\n",
    "if __name__ == \"__main__\":\n",
    "    main()"
   ]
  },
  {
   "cell_type": "code",
   "execution_count": 1,
   "metadata": {},
   "outputs": [
    {
     "name": "stderr",
     "output_type": "stream",
     "text": [
      "C:\\Users\\mspai\\Anaconda3\\lib\\site-packages\\ipykernel_launcher.py:8: RuntimeWarning: Second argument 'y' is ambiguous: could be a color spec but is in data; using as data.  Either rename the entry in data or use three arguments to plot.\n",
      "  \n"
     ]
    },
    {
     "data": {
      "text/plain": [
       "[<matplotlib.lines.Line2D at 0x22c76389e48>]"
      ]
     },
     "execution_count": 1,
     "metadata": {},
     "output_type": "execute_result"
    }
   ],
   "source": [
    "# library &amp;amp;amp; dataset\n",
    "from matplotlib import pyplot as plt\n",
    "import pandas as pd\n",
    "import numpy as np\n",
    "x=[0,1,2,3,4,5,6,7,8,9,0,6,4,2,5,7,2,4,5,7,8]\n",
    "y=[9,7,53,5,6,8,2,34,7,6,4,32,2,56,78,9,7,5,2]\n",
    "# plot\n",
    "plt.plot( 'x', 'y',marker='o', color='mediumvioletred')\n"
   ]
  }
 ],
 "metadata": {
  "kernelspec": {
   "display_name": "Python 3",
   "language": "python",
   "name": "python3"
  },
  "language_info": {
   "codemirror_mode": {
    "name": "ipython",
    "version": 3
   },
   "file_extension": ".py",
   "mimetype": "text/x-python",
   "name": "python",
   "nbconvert_exporter": "python",
   "pygments_lexer": "ipython3",
   "version": "3.7.4"
  }
 },
 "nbformat": 4,
 "nbformat_minor": 2
}
