{
 "cells": [
  {
   "cell_type": "code",
   "execution_count": null,
   "metadata": {},
   "outputs": [],
   "source": [
    "import numpy as np\n",
    "import open3d as o3d   \n",
    "\n",
    "def main():\n",
    "    cloud = o3d.io.read_point_cloud(\"finalCloud.pcd\") # Read the point cloud\n",
    "    o3d.visualization.draw_geometries([cloud]) # Visualize the point cloud\n",
    "    max_coords=o3d.geometry.get_max_bound(self)\n",
    "    min_coords=o3d.geometry.get_min_bound(self)\n",
    "    print(max_coords)\n",
    "    print(min_coords)\n",
    "\n",
    "if __name__ == \"__main__\":\n",
    "    main()"
   ]
  }
 ],
 "metadata": {
  "kernelspec": {
   "display_name": "Python 3",
   "language": "python",
   "name": "python3"
  },
  "language_info": {
   "codemirror_mode": {
    "name": "ipython",
    "version": 3
   },
   "file_extension": ".py",
   "mimetype": "text/x-python",
   "name": "python",
   "nbconvert_exporter": "python",
   "pygments_lexer": "ipython3",
   "version": "3.7.4"
  }
 },
 "nbformat": 4,
 "nbformat_minor": 2
}
